{
 "cells": [
  {
   "cell_type": "markdown",
   "id": "12026e25-c4eb-412c-a64e-37959d156b9a",
   "metadata": {},
   "source": [
    "## Loading the required librariries such as Pandas, Numpy, Matplotlib and Seaborn"
   ]
  },
  {
   "cell_type": "code",
   "execution_count": 239,
   "id": "5d84998c-fe62-4cf9-9a66-70e6cd49406f",
   "metadata": {},
   "outputs": [],
   "source": [
    "import pandas as pd\n",
    "import numpy as np\n",
    "import matplotlib.pyplot as plt\n",
    "import seaborn as sns"
   ]
  },
  {
   "cell_type": "markdown",
   "id": "f9550f33-d84d-4199-8cdf-d1a1bfff455d",
   "metadata": {},
   "source": [
    "## a. Data Loading"
   ]
  },
  {
   "cell_type": "code",
   "execution_count": 241,
   "id": "9e6e899d-73da-4b62-9d17-aba440feecf0",
   "metadata": {},
   "outputs": [],
   "source": [
    "data = pd.read_csv('F:/student-mat.csv',delimiter=';') # Loading the dataset using Pandas"
   ]
  },
  {
   "cell_type": "code",
   "execution_count": 242,
   "id": "49d7b84e-05f1-46e5-bf03-cf9cbb2a230c",
   "metadata": {},
   "outputs": [
    {
     "name": "stdout",
     "output_type": "stream",
     "text": [
      "  school sex  age address famsize Pstatus  Medu  Fedu     Mjob      Fjob  ...  \\\n",
      "0     GP   F   18       U     GT3       A     4     4  at_home   teacher  ...   \n",
      "1     GP   F   17       U     GT3       T     1     1  at_home     other  ...   \n",
      "2     GP   F   15       U     LE3       T     1     1  at_home     other  ...   \n",
      "3     GP   F   15       U     GT3       T     4     2   health  services  ...   \n",
      "4     GP   F   16       U     GT3       T     3     3    other     other  ...   \n",
      "\n",
      "  famrel freetime  goout  Dalc  Walc health absences  G1  G2  G3  \n",
      "0      4        3      4     1     1      3        6   5   6   6  \n",
      "1      5        3      3     1     1      3        4   5   5   6  \n",
      "2      4        3      2     2     3      3       10   7   8  10  \n",
      "3      3        2      2     1     1      5        2  15  14  15  \n",
      "4      4        3      2     1     2      5        4   6  10  10  \n",
      "\n",
      "[5 rows x 33 columns]\n"
     ]
    }
   ],
   "source": [
    "#Displaying the first five rows from the dataset\n",
    "print(data.head())"
   ]
  },
  {
   "cell_type": "code",
   "execution_count": 243,
   "id": "616d65fc-fbfa-4f92-b9ce-6dc3b7024a76",
   "metadata": {},
   "outputs": [
    {
     "name": "stdout",
     "output_type": "stream",
     "text": [
      "    school sex  age address famsize Pstatus  Medu  Fedu      Mjob      Fjob  \\\n",
      "390     MS   M   20       U     LE3       A     2     2  services  services   \n",
      "391     MS   M   17       U     LE3       T     3     1  services  services   \n",
      "392     MS   M   21       R     GT3       T     1     1     other     other   \n",
      "393     MS   M   18       R     LE3       T     3     2  services     other   \n",
      "394     MS   M   19       U     LE3       T     1     1     other   at_home   \n",
      "\n",
      "     ... famrel freetime  goout  Dalc  Walc health absences  G1  G2  G3  \n",
      "390  ...      5        5      4     4     5      4       11   9   9   9  \n",
      "391  ...      2        4      5     3     4      2        3  14  16  16  \n",
      "392  ...      5        5      3     3     3      3        3  10   8   7  \n",
      "393  ...      4        4      1     3     4      5        0  11  12  10  \n",
      "394  ...      3        2      3     3     3      5        5   8   9   9  \n",
      "\n",
      "[5 rows x 33 columns]\n"
     ]
    }
   ],
   "source": [
    "#Displaying the first five rows from the dataset\n",
    "print(data.tail())"
   ]
  },
  {
   "cell_type": "markdown",
   "id": "4e99530a-148e-40b2-aa0a-a718f1fd8c33",
   "metadata": {},
   "source": [
    "## b. Data Exploration"
   ]
  },
  {
   "cell_type": "code",
   "execution_count": 245,
   "id": "445ede2a-d210-487c-890a-b6cca5217636",
   "metadata": {},
   "outputs": [
    {
     "name": "stdout",
     "output_type": "stream",
     "text": [
      "school        0\n",
      "sex           0\n",
      "age           0\n",
      "address       0\n",
      "famsize       0\n",
      "Pstatus       0\n",
      "Medu          0\n",
      "Fedu          0\n",
      "Mjob          0\n",
      "Fjob          0\n",
      "reason        0\n",
      "guardian      0\n",
      "traveltime    0\n",
      "studytime     0\n",
      "failures      0\n",
      "schoolsup     0\n",
      "famsup        0\n",
      "paid          0\n",
      "activities    0\n",
      "nursery       0\n",
      "higher        0\n",
      "internet      0\n",
      "romantic      0\n",
      "famrel        0\n",
      "freetime      0\n",
      "goout         0\n",
      "Dalc          0\n",
      "Walc          0\n",
      "health        0\n",
      "absences      0\n",
      "G1            0\n",
      "G2            0\n",
      "G3            0\n",
      "dtype: int64\n"
     ]
    }
   ],
   "source": [
    "#Check for missing values\n",
    "print(data.isnull().sum())"
   ]
  },
  {
   "cell_type": "markdown",
   "id": "262c732c-c22e-4772-b6a0-b33bcdc0c85b",
   "metadata": {},
   "source": [
    "##### Key Findings: There are no missing values present in the given Dataset"
   ]
  },
  {
   "cell_type": "code",
   "execution_count": 247,
   "id": "5b889368-30c7-4e1b-80b1-c245a34866f3",
   "metadata": {},
   "outputs": [
    {
     "name": "stdout",
     "output_type": "stream",
     "text": [
      "school        object\n",
      "sex           object\n",
      "age            int64\n",
      "address       object\n",
      "famsize       object\n",
      "Pstatus       object\n",
      "Medu           int64\n",
      "Fedu           int64\n",
      "Mjob          object\n",
      "Fjob          object\n",
      "reason        object\n",
      "guardian      object\n",
      "traveltime     int64\n",
      "studytime      int64\n",
      "failures       int64\n",
      "schoolsup     object\n",
      "famsup        object\n",
      "paid          object\n",
      "activities    object\n",
      "nursery       object\n",
      "higher        object\n",
      "internet      object\n",
      "romantic      object\n",
      "famrel         int64\n",
      "freetime       int64\n",
      "goout          int64\n",
      "Dalc           int64\n",
      "Walc           int64\n",
      "health         int64\n",
      "absences       int64\n",
      "G1             int64\n",
      "G2             int64\n",
      "G3             int64\n",
      "dtype: object\n"
     ]
    }
   ],
   "source": [
    "#Displaying the Column Datatypes\n",
    "print(data.dtypes)"
   ]
  },
  {
   "cell_type": "code",
   "execution_count": 248,
   "id": "280881dd-bf60-42c9-a553-fdcb834aa9f3",
   "metadata": {},
   "outputs": [
    {
     "name": "stdout",
     "output_type": "stream",
     "text": [
      "(395, 33)\n"
     ]
    }
   ],
   "source": [
    "#Understanding the Dataset size\n",
    "print(data.shape)"
   ]
  },
  {
   "cell_type": "markdown",
   "id": "602e6ff9-41cf-4904-a766-c2999731e5f8",
   "metadata": {},
   "source": [
    "##### The given Dataset contains 395 rows and 33 columns"
   ]
  },
  {
   "cell_type": "markdown",
   "id": "0f12acc8-bc61-46a6-bb87-e12c8deebf97",
   "metadata": {},
   "source": [
    "## c. Data Cleaning"
   ]
  },
  {
   "cell_type": "code",
   "execution_count": 251,
   "id": "488a840e-8205-4517-bf58-db3b891c7f7c",
   "metadata": {},
   "outputs": [],
   "source": [
    "# Handle missing values if any present\n",
    "data = data.fillna(data.median(numeric_only=True))  # Replace numeric NaNs with median"
   ]
  },
  {
   "cell_type": "code",
   "execution_count": 252,
   "id": "04cb148a-4e68-4453-b8d3-c6ddff80fdd6",
   "metadata": {},
   "outputs": [],
   "source": [
    "# Drop duplicate entries\n",
    "data = data.drop_duplicates()"
   ]
  },
  {
   "cell_type": "markdown",
   "id": "39230225-2784-4919-b643-7c18f1b9b076",
   "metadata": {},
   "source": [
    "## d. Data Analysis Questions"
   ]
  },
  {
   "cell_type": "markdown",
   "id": "90641170-f078-4052-8567-78fb58311b95",
   "metadata": {},
   "source": [
    "### 1. What is the average score in math (G3)?"
   ]
  },
  {
   "cell_type": "code",
   "execution_count": 255,
   "id": "6212b7a7-2904-49da-b0f3-1e90dbd3e361",
   "metadata": {},
   "outputs": [
    {
     "name": "stdout",
     "output_type": "stream",
     "text": [
      "Average final grade (G3): 10.415189873417722\n"
     ]
    }
   ],
   "source": [
    "average_G3 = data['G3'].mean()\n",
    "print(\"Average final grade (G3):\", average_G3)"
   ]
  },
  {
   "cell_type": "markdown",
   "id": "a2758175-aebe-4fe1-9a46-e856ebc33110",
   "metadata": {},
   "source": [
    "### 2. How many students scored above 15 in their final grade (G3)?"
   ]
  },
  {
   "cell_type": "code",
   "execution_count": 257,
   "id": "bb9b5481-500f-4bf2-9868-11ca253dbec3",
   "metadata": {},
   "outputs": [
    {
     "name": "stdout",
     "output_type": "stream",
     "text": [
      "Number of students with G3 > 15: 40\n"
     ]
    }
   ],
   "source": [
    "above_15 = data[data['G3'] > 15].shape[0]\n",
    "print(\"Number of students with G3 > 15:\", above_15)"
   ]
  },
  {
   "cell_type": "markdown",
   "id": "553eeb42-09d1-4809-8744-6673630f80e1",
   "metadata": {},
   "source": [
    "### 3. Is there a correlation between study time (study time) and the final grade (G3)?"
   ]
  },
  {
   "cell_type": "code",
   "execution_count": 259,
   "id": "38eb6162-e0b7-4c03-a774-dc4daec417fa",
   "metadata": {},
   "outputs": [
    {
     "name": "stdout",
     "output_type": "stream",
     "text": [
      "Correlation between study time and G3: 0.09781968965319626\n"
     ]
    }
   ],
   "source": [
    "correlation = data['studytime'].corr(data['G3'])\n",
    "print(\"Correlation between study time and G3:\", correlation)"
   ]
  },
  {
   "cell_type": "markdown",
   "id": "94b82d7e-1e63-4c4d-ae39-0d5d41851977",
   "metadata": {},
   "source": [
    "### 4. Which gender has a higher average final grade (G3)?"
   ]
  },
  {
   "cell_type": "code",
   "execution_count": 261,
   "id": "0cfb9f6a-677c-4f0f-9842-5d0cdc8a1f57",
   "metadata": {},
   "outputs": [
    {
     "name": "stdout",
     "output_type": "stream",
     "text": [
      "Average G3 by gender:\n",
      " sex\n",
      "F     9.966346\n",
      "M    10.914439\n",
      "Name: G3, dtype: float64\n"
     ]
    }
   ],
   "source": [
    "avg_by_gender = data.groupby('sex')['G3'].mean()\n",
    "print(\"Average G3 by gender:\\n\", avg_by_gender)"
   ]
  },
  {
   "cell_type": "markdown",
   "id": "eafd4e70-23db-41b9-8ba8-13cd3f7f1a1f",
   "metadata": {},
   "source": [
    "## e. Data Visualisation"
   ]
  },
  {
   "cell_type": "markdown",
   "id": "856437ef-39fd-479a-8763-aa9becb7bc17",
   "metadata": {},
   "source": [
    "### 1. Plot a histogram of final grades (G3)."
   ]
  },
  {
   "cell_type": "code",
   "execution_count": 264,
   "id": "5f5f61c4-d6a7-4297-8401-fdd482c38c90",
   "metadata": {},
   "outputs": [
    {
     "data": {
      "image/png": "[encoded data removed]",
      "text/plain": [
       "<Figure size 800x500 with 1 Axes>"
      ]
     },
     "metadata": {},
     "output_type": "display_data"
    }
   ],
   "source": [
    "# 1. Histogram of final grades (G3)\n",
    "plt.figure(figsize=(8, 5))\n",
    "sns.histplot(data['G3'], kde=True, bins=10, color='skyblue')\n",
    "plt.title('Histogram of Final Grades (G3)')\n",
    "plt.xlabel('Final Grade (G3)')\n",
    "plt.ylabel('Frequency')\n",
    "plt.show()"
   ]
  },
  {
   "cell_type": "markdown",
   "id": "8ae9d3f8-e97c-4f72-86d1-2b5f5bfab660",
   "metadata": {},
   "source": [
    "##### Most students scored between 10 and 15, indicating a central tendency toward average performance.\n",
    "##### A few students scored very low (0–5) or very high (17–20).\n",
    "##### A peak around 11–12 suggests that these scores were the most common."
   ]
  },
  {
   "cell_type": "markdown",
   "id": "fab1459d-f740-4e54-9c74-13fc56610dd4",
   "metadata": {},
   "source": [
    "### 2. Create a scatter plot between study time (study time) and final grade (G3)"
   ]
  },
  {
   "cell_type": "code",
   "execution_count": 267,
   "id": "ba4468b1-0347-45b2-b486-85e9f1d6f842",
   "metadata": {},
   "outputs": [
    {
     "data": {
      "image/png": "[encoded data removed]",
      "text/plain": [
       "<Figure size 800x500 with 1 Axes>"
      ]
     },
     "metadata": {},
     "output_type": "display_data"
    }
   ],
   "source": [
    "# 2. Scatter plot between study time and final grade (G3)\n",
    "plt.figure(figsize=(8, 5))\n",
    "sns.scatterplot(x='studytime', y='G3', data=data)\n",
    "plt.title('Study Time vs Final Grade')\n",
    "plt.xlabel('Study Time (hours per week)')\n",
    "plt.ylabel('Final Grade (G3)')\n",
    "plt.show()"
   ]
  },
  {
   "cell_type": "markdown",
   "id": "1c8bf507-facd-47b3-94a8-681f38192244",
   "metadata": {},
   "source": [
    "##### The x-axis shows study time categorized from 1 to 4.\n",
    "##### The y-axis represents the final grade (G3), ranging from 0 to 20.\n",
    "##### Each point represents a student.\n",
    "##### Students who studied more (levels 3 and 4) tend to have higher final grades on average.\n",
    "##### Students who spent less time studying (levels 1 and 2) have a wider spread of grades, including lower scores.\n",
    "##### This suggests that increased study time may be associated with better performance."
   ]
  },
  {
   "cell_type": "markdown",
   "id": "16ca786e-7b52-454f-b0de-8096648f2d77",
   "metadata": {},
   "source": [
    "### 3. Create a bar chart comparing the average scores of male and female students."
   ]
  },
  {
   "cell_type": "code",
   "execution_count": 270,
   "id": "f397d448-817b-47a4-a958-9d5fee205872",
   "metadata": {},
   "outputs": [
    {
     "name": "stderr",
     "output_type": "stream",
     "text": [
      "C:\\Users\\Reshma\\AppData\\Local\\Temp\\ipykernel_51828\\3100858523.py:3: FutureWarning: \n",
      "\n",
      "Passing `palette` without assigning `hue` is deprecated and will be removed in v0.14.0. Assign the `x` variable to `hue` and set `legend=False` for the same effect.\n",
      "\n",
      "  sns.barplot(x='sex', y='G3', data=data, palette='pastel')\n"
     ]
    },
    {
     "data": {
      "image/png": "[encoded data removed]",
      "text/plain": [
       "<Figure size 600x400 with 1 Axes>"
      ]
     },
     "metadata": {},
     "output_type": "display_data"
    }
   ],
   "source": [
    "# 3. Bar chart comparing average scores of male and female students\n",
    "plt.figure(figsize=(6, 4))\n",
    "sns.barplot(x='sex', y='G3', data=data, palette='pastel')\n",
    "plt.title('Average Final Grade by Gender')\n",
    "plt.xlabel('Gender')\n",
    "plt.ylabel('Average Final Grade (G3)')\n",
    "plt.show()"
   ]
  },
  {
   "cell_type": "markdown",
   "id": "cfa7ca4b-6acc-485c-85fc-762240ab8b46",
   "metadata": {},
   "source": [
    "##### The x-axis represents gender: F (Female) and M (Male).\n",
    "##### The y-axis shows the average final grade.\n",
    "##### Male students (M) have a slightly higher average final grade than female students (F).\n",
    "##### "
   ]
  }
 ],
 "metadata": {
  "kernelspec": {
   "display_name": "Python 3 (ipykernel)",
   "language": "python",
   "name": "python3"
  },
  "language_info": {
   "codemirror_mode": {
    "name": "ipython",
    "version": 3
   },
   "file_extension": ".py",
   "mimetype": "text/x-python",
   "name": "python",
   "nbconvert_exporter": "python",
   "pygments_lexer": "ipython3",
   "version": "3.12.7"
  }
 },
 "nbformat": 4,
 "nbformat_minor": 5
}
